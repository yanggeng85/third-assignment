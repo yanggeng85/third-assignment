{
 "cells": [
  {
   "cell_type": "markdown",
   "metadata": {},
   "source": [
    "# Numerical Assignment 3\n",
    "Debora Ramella ANR 760731\n",
    "\n",
    "Yang Geng  ANR\n",
    "\n",
    "\n",
    "Li Huang ANR \n"
   ]
  },
  {
   "cell_type": "markdown",
   "metadata": {},
   "source": [
    "## Question##\n",
    "We want to explain how the traditional Cournot duopoly model can be extended to accomodate cost asymmetries using Pyhton."
   ]
  },
  {
   "cell_type": "markdown",
   "metadata": {},
   "source": [
    "## Motivation\n",
    "The Cournot model has some features (optimization,equations solving) that make it ideal to illustrate how an economic problem can be solved with Python programming (even if we are aware that the question itself is not so original)."
   ]
  },
  {
   "cell_type": "markdown",
   "metadata": {},
   "source": [
    "We are now going to import all the libraries we need..."
   ]
  },
  {
   "cell_type": "code",
   "execution_count": 22,
   "metadata": {
    "collapsed": true
   },
   "outputs": [],
   "source": [
    "from scipy import optimize,arange\n",
    "from numpy import array\n",
    "import matplotlib.pyplot as plt\n",
    "%matplotlib inline\n",
    "from sympy import *\n",
    "from sympy import init_printing\n",
    "init_printing(use_latex=True)"
   ]
  },
  {
   "cell_type": "markdown",
   "metadata": {},
   "source": [
    "## Assumptions\n",
    "* Linear demand $P\\left( Q \\right) = \\frac{1}{2} - Q$ where $Q = q_{1} + q_{2}$ and $q_{1} + q_{2} \\leq \\frac{1}{2}$\n",
    "* Firms compete in quantities and simultaneously.\n",
    "* There is no product differentiation. \n",
    "* Cost functions are homogeneous. $C(q_i)=c$ with $i=1,2$ and $c_1<c_2$ namely $c_1=0$ , $c_2=0.25$"
   ]
  },
  {
   "cell_type": "markdown",
   "metadata": {},
   "source": [
    "## Model\n",
    "Firms profit functions: $π_i=(0.5-q_i-q_j ) q_i-c_iq_i$ with $i=1,2$"
   ]
  },
  {
   "cell_type": "markdown",
   "metadata": {},
   "source": [
    "Firstly, we are differentiating..."
   ]
  },
  {
   "cell_type": "code",
   "execution_count": 43,
   "metadata": {
    "collapsed": false,
    "scrolled": true
   },
   "outputs": [
    {
     "data": {
      "image/png": "[encoded data removed]",
      "text/latex": [
       "$$- 2 q_{1} - q_{2} + 0.5$$"
      ],
      "text/plain": [
       "-2⋅q₁ - q₂ + 0.5"
      ]
     },
     "execution_count": 43,
     "metadata": {},
     "output_type": "execute_result"
    }
   ],
   "source": [
    "q1 = Symbol('q1')\n",
    "q2 = Symbol('q2')\n",
    "\n",
    "y=(0.5*q1-q1**2-q1*q2)\n",
    "yprime = y.diff(q1)\n",
    "yprime"
   ]
  },
  {
   "cell_type": "code",
   "execution_count": 44,
   "metadata": {
    "collapsed": false
   },
   "outputs": [
    {
     "data": {
      "image/png": "[encoded data removed]",
      "text/latex": [
       "$$- q_{1} - 2 q_{2} + 0.25$$"
      ],
      "text/plain": [
       "-q₁ - 2⋅q₂ + 0.25"
      ]
     },
     "execution_count": 44,
     "metadata": {},
     "output_type": "execute_result"
    }
   ],
   "source": [
    "q1 = Symbol('q1')\n",
    "q2 = Symbol('q2')\n",
    "\n",
    "y=(0.5*q2-q2**2-q1*q2-0.25*q2)\n",
    "yprime = y.diff(q2)\n",
    "yprime"
   ]
  },
  {
   "cell_type": "markdown",
   "metadata": {},
   "source": [
    "To recap:\n",
    "\n",
    "$(dπ_1)/(dq_1 )=-2q_1-q_2+0.5$\n",
    "\n",
    "\n",
    "$(dπ_2)/(dq_2 )=-q_1-2q_2+0.25$"
   ]
  },
  {
   "cell_type": "markdown",
   "metadata": {},
   "source": [
    "The FOCs are..."
   ]
  },
  {
   "cell_type": "markdown",
   "metadata": {},
   "source": [
    "$-2q_1-q_2+0.5=0$\n",
    "\n",
    "$-q_1-2q_2+0.25=0$"
   ]
  },
  {
   "cell_type": "code",
   "execution_count": 62,
   "metadata": {
    "collapsed": false
   },
   "outputs": [
    {
     "data": {
      "image/png": "[encoded data removed]",
      "text/latex": [
       "$$\\left [ - 0.5 q_{2} + 0.25\\right ]$$"
      ],
      "text/plain": [
       "[-- -0.5⋅q₂ + 0.25]"
      ]
     },
     "execution_count": 62,
     "metadata": {},
     "output_type": "execute_result"
    }
   ],
   "source": [
    "\n",
    "solve (-2*q1-q2+0.5, q1)"
   ]
  },
  {
   "cell_type": "code",
   "execution_count": 63,
   "metadata": {
    "collapsed": false
   },
   "outputs": [
    {
     "data": {
      "image/png": "[encoded data removed]",
      "text/latex": [
       "$$\\left [ - 0.5 q_{1} + 0.125\\right ]$$"
      ],
      "text/plain": [
       "[-- -0.5⋅q₁ + 0.125]"
      ]
     },
     "execution_count": 63,
     "metadata": {},
     "output_type": "execute_result"
    }
   ],
   "source": [
    "solve (-q1-2*q2+0.25, q2)"
   ]
  },
  {
   "cell_type": "markdown",
   "metadata": {},
   "source": [
    "The system of the reaction curves:\n",
    "\n",
    "$\\left\\{ \\begin{matrix}\n",
    "q_{1}\\left( q_{2} \\right) = - 0.5q_{2} + 0.25 \\\\\n",
    "q_{2}\\left( q_{1} \\right) = - \\frac{1}{2}q_{1}+0.125 \\\\\n",
    "\\end{matrix} \\right.\\ $"
   ]
  },
  {
   "cell_type": "markdown",
   "metadata": {},
   "source": [
    "## A graphical representation"
   ]
  },
  {
   "cell_type": "code",
   "execution_count": 56,
   "metadata": {
    "collapsed": false
   },
   "outputs": [
    {
     "data": {
      "image/png": "[encoded data removed]",
      "text/plain": [
       "<matplotlib.figure.Figure at 0x10c872690>"
      ]
     },
     "metadata": {},
     "output_type": "display_data"
    }
   ],
   "source": [
    "def reaction_function(q_other,c):\n",
    "    return 0.5*(1-c-q_other)\n",
    "\n",
    "c_1 = 0.0\n",
    "c_2 = 0.25\n",
    "\n",
    "range_q = arange(0.0,1.01,0.01)\n",
    "range_reaction_1 = [reaction_function(q_2,c_1) for q_2 in range_q]\n",
    "range_reaction_2 = [reaction_function(q_1,c_2) for q_1 in range_q]\n",
    "\n",
    "plt.clf()\n",
    "plt.plot(range_q, range_reaction_2,'-', color = 'r', linewidth = 2)\n",
    "plt.plot(range_reaction_1, range_q,'-', color = 'b', linewidth = 2)\n",
    "plt.title(\"Reaction curves\",fontsize = 15)\n",
    "plt.xlabel(\"$q_1$\",fontsize = 15)\n",
    "plt.ylabel(\"$q_2$\",fontsize = 15,rotation = 90)\n",
    "plt.annotate('$q_2(q_1)$', xy=(0.6,reaction_function(0.6,c_2)),  xycoords='data', # here we define the labels and arrows in the graph\n",
    "              xytext=(30, 50), textcoords='offset points', size = 20,\n",
    "              arrowprops=dict(arrowstyle=\"->\", linewidth = 2,\n",
    "                              connectionstyle=\"arc3,rad=.2\"),\n",
    "              )\n",
    "plt.annotate('$q_1(q_2)$', xy=(reaction_function(0.6,c_1),0.6),  xycoords='data', # here we define the labels and arrows in the graph\n",
    "              xytext=(30, 50), textcoords='offset points', size = 20,\n",
    "              arrowprops=dict(arrowstyle=\"->\", linewidth = 2,\n",
    "                              connectionstyle=\"arc3,rad=.2\"),\n",
    "              )\n",
    "\n",
    "\n",
    "\n",
    "\n",
    "# plt.xlim(c,1.0)\n",
    "# plt.ylim(0.0,0.3)\n",
    "plt.savefig('reaction curves.png')"
   ]
  },
  {
   "cell_type": "markdown",
   "metadata": {},
   "source": [
    "Mathematically we can see derive the equilibrium quantities..."
   ]
  },
  {
   "cell_type": "code",
   "execution_count": 61,
   "metadata": {
    "collapsed": false
   },
   "outputs": [
    {
     "data": {
      "image/png": "[encoded data removed]",
      "text/latex": [
       "$$\\left \\{ q_{1} : 0.25, \\quad q_{2} : 0.0\\right \\}$$"
      ],
      "text/plain": [
       "{q₁: 0.25, q₂: 0.0}"
      ]
     },
     "execution_count": 61,
     "metadata": {},
     "output_type": "execute_result"
    }
   ],
   "source": [
    "solve([-0.5*q2+0.25-q1,-0.5*q1+0.125-q2 ], [q1,q2])"
   ]
  },
  {
   "cell_type": "markdown",
   "metadata": {},
   "source": [
    "## Conclusions"
   ]
  },
  {
   "cell_type": "markdown",
   "metadata": {},
   "source": [
    "$q_1^*=0.25$ \n",
    "\n",
    "$q_1^*=0.00$\n",
    "\n",
    "$Q^*=0.25$\n",
    "\n",
    "$P^*=0.25$\n",
    "\n",
    "To conclude, only one firm will be active at equilibrium and will make $π_1=〖0.25〗^2$."
   ]
  },
  {
   "cell_type": "code",
   "execution_count": null,
   "metadata": {
    "collapsed": true
   },
   "outputs": [],
   "source": []
  }
 ],
 "metadata": {},
 "nbformat": 4,
 "nbformat_minor": 0
}
