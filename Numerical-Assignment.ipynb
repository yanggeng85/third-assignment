{
 "metadata": {
  "name": "",
  "signature": "sha256:bdbc1f0ae39580720885b86ab8e7275ad15e636ab10a6a832a77a4fcbcb9519a"
 },
 "nbformat": 3,
 "nbformat_minor": 0,
 "worksheets": [
  {
   "cells": [
    {
     "cell_type": "markdown",
     "metadata": {},
     "source": [
      "<table>\n",
      "<tr>\n",
      "<th>Name</th>\n",
      "<th>ANR</th>\n",
      "\n",
      "</tr>\n",
      "<tr>\n",
      "<td>Debora Ramella</td>\n",
      "<td>760731</td>\n",
      "\n",
      "</tr>\n",
      "<tr>\n",
      "<td>Yang Geng</td>\n",
      "<td>846393</td>\n",
      "\n",
      "</tr>\n",
      "<tr>\n",
      "<td>Yi Huang</td>\n",
      "<td>353686</td>\n",
      "\n",
      "</tr>\n",
      "</table>"
     ]
    },
    {
     "cell_type": "markdown",
     "metadata": {},
     "source": [
      "##Numerical Assignment 3"
     ]
    },
    {
     "cell_type": "markdown",
     "metadata": {},
     "source": [
      ">We begin by importing the libraries we need to carry out our analysis. "
     ]
    },
    {
     "cell_type": "code",
     "collapsed": false,
     "input": [
      "from scipy import optimize,arange\n",
      "from numpy import array\n",
      "import matplotlib.pyplot as plt\n",
      "%matplotlib inline\n",
      "from sympy import *\n",
      "from sympy import init_printing\n",
      "init_printing(use_latex=True)"
     ],
     "language": "python",
     "metadata": {},
     "outputs": [],
     "prompt_number": 9
    },
    {
     "cell_type": "markdown",
     "metadata": {},
     "source": [
      "## 1.Question\n",
      ">We are going to illustrate how the Cournot model with asymmetric cost varies according to different levels of marginal costs. "
     ]
    },
    {
     "cell_type": "markdown",
     "metadata": {},
     "source": [
      "## 2.Why?\n",
      ">Even if the question might not be very original, we think that it is a good example to show how Python programming skills can be applied to solve an economic problem. "
     ]
    },
    {
     "cell_type": "markdown",
     "metadata": {},
     "source": [
      "##3.Some assumptions..."
     ]
    },
    {
     "cell_type": "markdown",
     "metadata": {},
     "source": [
      ">* Demand function: $P(Q)=max(a-Q,0)$\n",
      "* Players: $[1,2]$\n",
      "* Strategy set: $[0,\u221e)$\n",
      "* One stage game\n",
      "* Firms compete on quantities (Cournot game)\n",
      "* Payoff functions: $\u03c0_i(q_i,q_j)=pq_i-cq_i$\n",
      "* Firm 1 has a **cost advantage** : $c_1< c_2$\n"
     ]
    },
    {
     "cell_type": "markdown",
     "metadata": {},
     "source": [
      "## 4.Model and general predictions"
     ]
    },
    {
     "cell_type": "markdown",
     "metadata": {},
     "source": [
      "###4.1 Computations:"
     ]
    },
    {
     "cell_type": "code",
     "collapsed": false,
     "input": [
      "q1 = Symbol('q1')\n",
      "q2 = Symbol('q2')\n",
      "c1=Symbol('c1')\n",
      "c2=Symbol('c2')\n",
      "a=Symbol('a')\n",
      "y=(a-q1-q2)*q1-c1*q1\n",
      "yprime = y.diff(q1)\n",
      "print yprime\n",
      "\n",
      "q1 = Symbol('q1')\n",
      "q2 = Symbol('q2')\n",
      "c1=Symbol('c1')\n",
      "c2=Symbol('c2')\n",
      "a=Symbol('a')\n",
      "y=(a-q1-q2)*q2-c2*q2\n",
      "yprime = y.diff(q2)\n",
      "print yprime"
     ],
     "language": "python",
     "metadata": {},
     "outputs": [
      {
       "output_type": "stream",
       "stream": "stdout",
       "text": [
        "a - c1 - 2*q1 - q2\n",
        "a - c2 - q1 - 2*q2\n"
       ]
      }
     ],
     "prompt_number": 13
    },
    {
     "cell_type": "code",
     "collapsed": false,
     "input": [
      "solve (a - c1 - 2*q1 - q2, q1)"
     ],
     "language": "python",
     "metadata": {},
     "outputs": [
      {
       "output_type": "stream",
       "stream": "stderr",
       "text": [
        "/opt/anaconda/envs/np18py27-1.9/lib/python2.7/site-packages/IPython/core/formatters.py:239: FormatterWarning: Exception in image/png formatter: \n",
        "\\begin{bmatrix}a / 2 - c_{1} / 2 - q_{2} / 2\\end{bmatrix}\n",
        "^\n",
        "Unknown symbol: \\begin (at char 0), (line:1, col:1)\n",
        "  FormatterWarning,\n"
       ]
      },
      {
       "latex": [
        "$$\\begin{bmatrix}\\frac{a}{2} - \\frac{c_{1}}{2} - \\frac{q_{2}}{2}\\end{bmatrix}$$"
       ],
       "metadata": {},
       "output_type": "pyout",
       "prompt_number": 15,
       "text": [
        "\u23a1a   c\u2081   q\u2082\u23a4\n",
        "\u23a2\u2500 - \u2500\u2500 - \u2500\u2500\u23a5\n",
        "\u23a32   2    2 \u23a6"
       ]
      }
     ],
     "prompt_number": 15
    },
    {
     "cell_type": "code",
     "collapsed": false,
     "input": [
      "solve (a - c2 - q1 - 2*q2, q2)"
     ],
     "language": "python",
     "metadata": {},
     "outputs": [
      {
       "latex": [
        "$$\\begin{bmatrix}\\frac{a}{2} - \\frac{c_{2}}{2} - \\frac{q_{1}}{2}\\end{bmatrix}$$"
       ],
       "metadata": {},
       "output_type": "pyout",
       "prompt_number": 16,
       "text": [
        "\u23a1a   c\u2082   q\u2081\u23a4\n",
        "\u23a2\u2500 - \u2500\u2500 - \u2500\u2500\u23a5\n",
        "\u23a32   2    2 \u23a6"
       ]
      }
     ],
     "prompt_number": 16
    },
    {
     "cell_type": "code",
     "collapsed": false,
     "input": [
      "solve([a - c1 - 2*q1 - q2,a - c2 - q1 - 2*q2], [q1,q2])"
     ],
     "language": "python",
     "metadata": {},
     "outputs": [
      {
       "output_type": "stream",
       "stream": "stderr",
       "text": [
        "/opt/anaconda/envs/np18py27-1.9/lib/python2.7/site-packages/IPython/core/formatters.py:239: FormatterWarning: Exception in image/png formatter: \n",
        "\\begin{Bmatrix}q_{1} : a / 3 - 2 c_{1} / 3 + c_{2} / 3, & q_{2} : a / 3 + c_{1} / 3 - 2 c_{2} / 3\\end{Bmatrix}\n",
        "^\n",
        "Unknown symbol: \\begin (at char 0), (line:1, col:1)\n",
        "  FormatterWarning,\n"
       ]
      },
      {
       "latex": [
        "$$\\begin{Bmatrix}q_{1} : \\frac{a}{3} - \\frac{2 c_{1}}{3} + \\frac{c_{2}}{3}, & q_{2} : \\frac{a}{3} + \\frac{c_{1}}{3} - \\frac{2 c_{2}}{3}\\end{Bmatrix}$$"
       ],
       "metadata": {},
       "output_type": "pyout",
       "prompt_number": 17,
       "text": [
        "\u23a7    a   2\u22c5c\u2081   c\u2082      a   c\u2081   2\u22c5c\u2082\u23ab\n",
        "\u23a8q\u2081: \u2500 - \u2500\u2500\u2500\u2500 + \u2500\u2500, q\u2082: \u2500 + \u2500\u2500 - \u2500\u2500\u2500\u2500\u23ac\n",
        "\u23a9    3    3     3       3   3     3  \u23ad"
       ]
      }
     ],
     "prompt_number": 17
    },
    {
     "cell_type": "markdown",
     "metadata": {},
     "source": [
      "### 4.2 General results: \n",
      ">First Order Conditions:  \n",
      "\n",
      ">$(d\u03c0_1)/(dq_1 )=a - c1 - 2q1 - q2=0$\n",
      "\n",
      ">$(d\u03c0_2)/(dq_2 )=a - c2 - q1 - 2q2=0$\n",
      "\n",
      ">Reaction functions:\n",
      "\n",
      ">$\\left\\{ \\begin{matrix}\n",
      "q_{1}\\left( q_{2} \\right) =(a-c_1-q_2)/2 \\\\\n",
      "q_{2}\\left( q_{1} \\right) = (a-c_2-q_1)/2 \\\\\n",
      "\\end{matrix} \\right.\\ $\n",
      "\n",
      ">Equilibrium quantities:\n",
      "\n",
      ">$q^1=(a-2c_1+c_2)/3$\n",
      "\n",
      "\n",
      ">$q^2=(a-2c_2+c_1)/3$\n",
      "\n",
      "\n",
      ">Equilibrium price:\n",
      "\n",
      ">$P=(a+c_2+c_1)/3$"
     ]
    },
    {
     "cell_type": "markdown",
     "metadata": {},
     "source": [
      "## 5. Different scenarios"
     ]
    },
    {
     "cell_type": "markdown",
     "metadata": {},
     "source": [
      "> Now we are going to apply the general results obtaining from the model to three different scenarios:\n",
      "\n",
      ">* Firm 1 has a sizeable cost advantage over Firm 2. \n",
      "* Firm 1 has a slight cost advantage over Firm 2. \n",
      "* Both firms have the same marginal costs. "
     ]
    },
    {
     "cell_type": "markdown",
     "metadata": {},
     "source": [
      "###5.1 Firm 1 has a significant cost advantage over Firm 2. "
     ]
    },
    {
     "cell_type": "markdown",
     "metadata": {},
     "source": [
      ">Assumptions:\n",
      "\n",
      ">* $P(Q)=1-q_1-q_2$\n",
      "* $c_1=0$\n",
      "* $c_2=0.7$"
     ]
    },
    {
     "cell_type": "code",
     "collapsed": false,
     "input": [
      "def reaction_function(q_other,c):\n",
      "    return 0.5*(1-c-q_other)\n",
      "\n",
      "c_1 = 0.0\n",
      "c_2 = 0.7\n",
      "\n",
      "range_q = arange(-0.4,1.01,0.01)\n",
      "range_reaction_1 = [reaction_function(q_2,c_1) for q_2 in range_q]\n",
      "range_reaction_2 = [reaction_function(q_1,c_2) for q_1 in range_q]\n",
      "\n",
      "plt.clf()\n",
      "plt.plot(range_q, range_reaction_2,'-', color = 'r', linewidth = 2)\n",
      "plt.plot(range_reaction_1, range_q,'-', color = 'b', linewidth = 2)\n",
      "plt.title(\"Equilibrium\",fontsize = 15)\n",
      "plt.xlabel(\"$q_1$\",fontsize = 15)\n",
      "plt.ylabel(\"$q_2$\",fontsize = 15,rotation = 90)\n",
      "plt.annotate('$q_2(q_1)$', xy=(0.6,reaction_function(0.6,c_2)),  xycoords='data', # here we define the labels and arrows in the graph\n",
      "              xytext=(30, 50), textcoords='offset points', size = 20,\n",
      "              arrowprops=dict(arrowstyle=\"->\", linewidth = 2,\n",
      "                              connectionstyle=\"arc3,rad=.2\"),\n",
      "              )\n",
      "plt.annotate('$q_1(q_2)$', xy=(reaction_function(0.6,c_1),0.6),  xycoords='data', # here we define the labels and arrows in the graph\n",
      "              xytext=(30, 50), textcoords='offset points', size = 20,\n",
      "              arrowprops=dict(arrowstyle=\"->\", linewidth = 2,\n",
      "                              connectionstyle=\"arc3,rad=.2\"),\n",
      "              )\n",
      "\n",
      "\n",
      "\n",
      "\n",
      "# plt.xlim(c,1.0)\n",
      "# plt.ylim(0.0,0.3)\n",
      "plt.savefig('scenario1.png')"
     ],
     "language": "python",
     "metadata": {},
     "outputs": [
      {
       "metadata": {},
       "output_type": "display_data",
       "png": "[encoded data removed]",
       "text": [
        "<matplotlib.figure.Figure at 0x7f4631d7e090>"
       ]
      }
     ],
     "prompt_number": 35
    },
    {
     "cell_type": "markdown",
     "metadata": {},
     "source": [
      "###5.2 Firm 1 has a slight cost advantage over Firm 2. "
     ]
    },
    {
     "cell_type": "code",
     "collapsed": false,
     "input": [
      "def reaction_function(q_other,c):\n",
      "    return 0.5*(1-c-q_other)\n",
      "\n",
      "c_1 = 0.3\n",
      "c_2 = 0.4\n",
      "\n",
      "range_q = arange(0.0,1.01,0.01)\n",
      "range_reaction_1 = [reaction_function(q_2,c_1) for q_2 in range_q]\n",
      "range_reaction_2 = [reaction_function(q_1,c_2) for q_1 in range_q]\n",
      "\n",
      "plt.clf()\n",
      "plt.plot(range_q, range_reaction_2,'-', color = 'r', linewidth = 2)\n",
      "plt.plot(range_reaction_1, range_q,'-', color = 'b', linewidth = 2)\n",
      "plt.title(\"Equilibrium\",fontsize = 15)\n",
      "plt.xlabel(\"$q_1$\",fontsize = 15)\n",
      "plt.ylabel(\"$q_2$\",fontsize = 15,rotation = 90)\n",
      "plt.annotate('$q_2(q_1)$', xy=(0.6,reaction_function(0.6,c_2)),  xycoords='data', # here we define the labels and arrows in the graph\n",
      "              xytext=(30, 50), textcoords='offset points', size = 20,\n",
      "              arrowprops=dict(arrowstyle=\"->\", linewidth = 2,\n",
      "                              connectionstyle=\"arc3,rad=.2\"),\n",
      "              )\n",
      "plt.annotate('$q_1(q_2)$', xy=(reaction_function(0.6,c_1),0.6),  xycoords='data', # here we define the labels and arrows in the graph\n",
      "              xytext=(30, 50), textcoords='offset points', size = 20,\n",
      "              arrowprops=dict(arrowstyle=\"->\", linewidth = 2,\n",
      "                              connectionstyle=\"arc3,rad=.2\"),\n",
      "              )\n",
      "\n",
      "\n",
      "\n",
      "\n",
      "# plt.xlim(c,1.0)\n",
      "# plt.ylim(0.0,0.3)\n",
      "plt.savefig('scenario2.png')"
     ],
     "language": "python",
     "metadata": {},
     "outputs": [
      {
       "metadata": {},
       "output_type": "display_data",
       "png": "[encoded data removed]",
       "text": [
        "<matplotlib.figure.Figure at 0x7f4632140350>"
       ]
      }
     ],
     "prompt_number": 31
    },
    {
     "cell_type": "markdown",
     "metadata": {},
     "source": [
      "### 5.3 Both firms have the same marginal costs."
     ]
    },
    {
     "cell_type": "code",
     "collapsed": false,
     "input": [
      "def reaction_function(q_other,c):\n",
      "    return 0.5*(1-c-q_other)\n",
      "\n",
      "c_1 = 0.2\n",
      "c_2 = 0.2\n",
      "\n",
      "range_q = arange(0.0,1.01,0.01)\n",
      "range_reaction_1 = [reaction_function(q_2,c_1) for q_2 in range_q]\n",
      "range_reaction_2 = [reaction_function(q_1,c_2) for q_1 in range_q]\n",
      "\n",
      "plt.clf()\n",
      "plt.plot(range_q, range_reaction_2,'-', color = 'r', linewidth = 2)\n",
      "plt.plot(range_reaction_1, range_q,'-', color = 'b', linewidth = 2)\n",
      "plt.title(\"Equilibrium\",fontsize = 15)\n",
      "plt.xlabel(\"$q_1$\",fontsize = 15)\n",
      "plt.ylabel(\"$q_2$\",fontsize = 15,rotation = 90)\n",
      "plt.annotate('$q_2(q_1)$', xy=(0.6,reaction_function(0.6,c_2)),  xycoords='data', # here we define the labels and arrows in the graph\n",
      "              xytext=(30, 50), textcoords='offset points', size = 20,\n",
      "              arrowprops=dict(arrowstyle=\"->\", linewidth = 2,\n",
      "                              connectionstyle=\"arc3,rad=.2\"),\n",
      "              )\n",
      "plt.annotate('$q_1(q_2)$', xy=(reaction_function(0.6,c_1),0.6),  xycoords='data', # here we define the labels and arrows in the graph\n",
      "              xytext=(30, 50), textcoords='offset points', size = 20,\n",
      "              arrowprops=dict(arrowstyle=\"->\", linewidth = 2,\n",
      "                              connectionstyle=\"arc3,rad=.2\"),\n",
      "              )\n",
      "\n",
      "\n",
      "\n",
      "\n",
      "# plt.xlim(c,1.0)\n",
      "# plt.ylim(0.0,0.3)\n",
      "plt.savefig('scenario3.png')"
     ],
     "language": "python",
     "metadata": {},
     "outputs": [
      {
       "metadata": {},
       "output_type": "display_data",
       "png": "[encoded data removed]",
       "text": [
        "<matplotlib.figure.Figure at 0x7f463200db50>"
       ]
      }
     ],
     "prompt_number": 32
    },
    {
     "cell_type": "markdown",
     "metadata": {},
     "source": [
      "##6.Conclusions"
     ]
    },
    {
     "cell_type": "markdown",
     "metadata": {},
     "source": [
      ">In section 4.2 we derived the general results of the Cournot duopoly with asymmetric costs. Then, we tested the results of the model with different level of marginal costs.\n",
      "\n",
      "\n",
      ">The graph in section 5.1 shows that for a sufficiently high value of $c_2$, the \n",
      "reaction functions intersect at a negative value for $q_2$. Since output cannot be negative, it means that Firm 2 will shut down production and only Firm 1 will produce at equlibrium. \n",
      "\n",
      "\n",
      ">In the scenario illustrated in section 5.2, we can see that if the difference between the marginal costs of the two competitors is not too large, then both the low cost and high cost firm will produce at equilibrium. \n",
      "\n",
      "\n",
      ">Finally, section 5.3. illustrates the standard outcome of a Cournot duopoly with homogeneous costs."
     ]
    },
    {
     "cell_type": "code",
     "collapsed": false,
     "input": [],
     "language": "python",
     "metadata": {},
     "outputs": []
    }
   ],
   "metadata": {}
  }
 ]
}